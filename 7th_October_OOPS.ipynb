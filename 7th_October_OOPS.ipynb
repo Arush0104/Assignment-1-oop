{
 "cells": [
  {
   "cell_type": "code",
   "execution_count": 828,
   "metadata": {},
   "outputs": [],
   "source": [
    "#Question 1\n",
    "class Bank:\n",
    "    def __init__(self, account_number,account_name):\n",
    "        self.account_number = account_number\n",
    "        self.account_name = account_name\n",
    "        self.balance = 100000\n",
    "    def deposit(self,amount):\n",
    "        if(amount>0):\n",
    "            self.balance+=amount\n",
    "            print(f\"You deposited {amount}. New amount = {self.balance}\")\n",
    "        else:\n",
    "            print(\"Invalid Amount. Try again\")\n",
    "    def withdraw(self, amount):\n",
    "        if self.balance >= amount:\n",
    "                self.balance -= amount\n",
    "                print(f\"You withdrew {amount}. New balance = {self.balance}\")\n",
    "        else:\n",
    "            print(\"You don't have enough balance to withdraw that amount.\")\n",
    "\n",
    "    def display(self):\n",
    "        print(f\"Account Number: {self.account_number}\")\n",
    "        print(f\"Account Name: {self.account_name}\")\n",
    "        print(f\"Balance: {self.balance}\")\n"
   ]
  },
  {
   "cell_type": "code",
   "execution_count": 829,
   "metadata": {},
   "outputs": [
    {
     "name": "stdout",
     "output_type": "stream",
     "text": [
      "Account Number: 389928191\n",
      "Account Name: Marcus Fenix\n",
      "Balance: 100000\n"
     ]
    }
   ],
   "source": [
    "my_bank = Bank(\"389928191\",\"Marcus Fenix\")\n",
    "my_bank.display()"
   ]
  },
  {
   "cell_type": "code",
   "execution_count": 830,
   "metadata": {},
   "outputs": [
    {
     "name": "stdout",
     "output_type": "stream",
     "text": [
      "You withdrew 2000. New balance = 98000\n"
     ]
    }
   ],
   "source": [
    "my_bank.withdraw(2000)"
   ]
  },
  {
   "cell_type": "code",
   "execution_count": 831,
   "metadata": {},
   "outputs": [
    {
     "name": "stdout",
     "output_type": "stream",
     "text": [
      "You deposited 100. New amount = 98100\n"
     ]
    }
   ],
   "source": [
    "my_bank.deposit(100)"
   ]
  },
  {
   "cell_type": "code",
   "execution_count": 832,
   "metadata": {},
   "outputs": [],
   "source": [
    "#Question 2\n",
    "class Employee:\n",
    "    def __init__(self, employeeID, name, salary, position,yearly_bonus):\n",
    "        self.employeeID = employeeID\n",
    "        self.name = name\n",
    "        self.salary = salary\n",
    "        self.postion = position\n",
    "        self.yearly_bonus = yearly_bonus\n",
    "    def display(self):\n",
    "        print(f\"Employee ID: {self.employeeID}\")\n",
    "        print(f\"Name: {self.name}\")\n",
    "        print(f\"Salary: {self.salary}\")\n",
    "        print(f\"Position: {self.postion}\")\n",
    "        print(f\"Yearly Bonus: {self.yearly_bonus}\")\n",
    "    def bonus(self):\n",
    "        print(f\"The yearly bonus of {self.name} is {(self.salary*self.yearly_bonus)+self.salary}\")"
   ]
  },
  {
   "cell_type": "code",
   "execution_count": 833,
   "metadata": {},
   "outputs": [],
   "source": [
    "emp1 = Employee(\"AX125\",\"Anton Castillo\",2000000,\"SDE 2\",0.0511)\n",
    "emp2 = Employee(\"NM984\",\"Dani Rojas\",900000,\"SDE 1\",0.0234)"
   ]
  },
  {
   "cell_type": "code",
   "execution_count": 834,
   "metadata": {},
   "outputs": [
    {
     "name": "stdout",
     "output_type": "stream",
     "text": [
      "Employee ID: AX125\n",
      "Name: Anton Castillo\n",
      "Salary: 2000000\n",
      "Position: SDE 2\n",
      "Yearly Bonus: 0.0511\n",
      "The yearly bonus of Anton Castillo is 2102200.0\n"
     ]
    }
   ],
   "source": [
    "emp1.display()\n",
    "emp1.bonus()"
   ]
  },
  {
   "cell_type": "code",
   "execution_count": 835,
   "metadata": {},
   "outputs": [
    {
     "name": "stdout",
     "output_type": "stream",
     "text": [
      "Employee ID: NM984\n",
      "Name: Dani Rojas\n",
      "Salary: 900000\n",
      "Position: SDE 1\n",
      "Yearly Bonus: 0.0234\n",
      "The yearly bonus of Dani Rojas is 921060.0\n"
     ]
    }
   ],
   "source": [
    "emp2.display()\n",
    "emp2.bonus()"
   ]
  },
  {
   "cell_type": "code",
   "execution_count": 836,
   "metadata": {},
   "outputs": [],
   "source": [
    "#Question 3\n",
    "class Vehicle:\n",
    "    def __init__(self, vehicle_id,status=\"Available\",rental_status=None):\n",
    "        self.vehicle_id = vehicle_id\n",
    "        self.status = status\n",
    "        self.rental_status = rental_status"
   ]
  },
  {
   "cell_type": "code",
   "execution_count": 837,
   "metadata": {},
   "outputs": [],
   "source": [
    "class RentalSystem:\n",
    "    def __init__(self):\n",
    "        self.vehicles = []\n",
    "    def add_vehicle(self, vehicle):\n",
    "        self.vehicles.append(vehicle)\n",
    "    def rent_vehicle(self, vehicle_id, customer_name):\n",
    "        for vehicle in self.vehicles:\n",
    "            if(vehicle.vehicle_id == vehicle_id and vehicle.status == \"Available\"):\n",
    "                vehicle.status = \"rented\"\n",
    "                vehicle.rental_status = customer_name\n",
    "                print(f\"Vehicle {vehicle_id} rented to {customer_name}\")\n",
    "            else:\n",
    "                print(f\"Vehicle {vehicle_id} is not available for rent.\")\n",
    "                return\n",
    "    def return_vehicle(self, vehicle_id, customer_name):\n",
    "        for vehicle in self.vehicles:\n",
    "            if(vehicle.vehicle_id == vehicle_id and vehicle.status == \"Available\"):\n",
    "                vehicle.status = \"available\"\n",
    "                vehicle.rental_status = customer_name\n",
    "                print(f\"Vehicle {vehicle_id} is available\")\n",
    "    def display_available_vehicles(self):\n",
    "        available_vehicles = [vehicle for vehicle in self.vehicles if vehicle.status == \"Available\"]\n",
    "        for vehicle in available_vehicles:\n",
    "            print(f\"Vehicle ID: {vehicle.vehicle_id}\")"
   ]
  },
  {
   "cell_type": "code",
   "execution_count": 838,
   "metadata": {},
   "outputs": [],
   "source": [
    "vehicle1 = Vehicle(\"KL12\")\n",
    "vehicle2 = Vehicle(\"HA34\")\n",
    "vehicle3 = Vehicle(\"PO09\")"
   ]
  },
  {
   "cell_type": "code",
   "execution_count": 839,
   "metadata": {},
   "outputs": [],
   "source": [
    "rent = RentalSystem()\n",
    "rent.add_vehicle(vehicle1)\n",
    "rent.add_vehicle(vehicle2)\n",
    "rent.add_vehicle(vehicle3)\n"
   ]
  },
  {
   "cell_type": "code",
   "execution_count": 840,
   "metadata": {},
   "outputs": [
    {
     "name": "stdout",
     "output_type": "stream",
     "text": [
      "Vehicle ID: KL12\n",
      "Vehicle ID: HA34\n",
      "Vehicle ID: PO09\n"
     ]
    }
   ],
   "source": [
    "rent.display_available_vehicles()"
   ]
  },
  {
   "cell_type": "code",
   "execution_count": 841,
   "metadata": {},
   "outputs": [
    {
     "name": "stdout",
     "output_type": "stream",
     "text": [
      "Vehicle HA34 is not available for rent.\n"
     ]
    }
   ],
   "source": [
    "rent.rent_vehicle(\"HA34\",\"Damon Baird\")"
   ]
  },
  {
   "cell_type": "code",
   "execution_count": 842,
   "metadata": {},
   "outputs": [
    {
     "name": "stdout",
     "output_type": "stream",
     "text": [
      "Vehicle HA34 is available\n"
     ]
    }
   ],
   "source": [
    "rent.return_vehicle(\"HA34\",\"Damon Baird\")"
   ]
  },
  {
   "cell_type": "code",
   "execution_count": 843,
   "metadata": {},
   "outputs": [],
   "source": [
    "#Question 4\n",
    "class Book:\n",
    "    def __init__(self, title, author):\n",
    "        self.title = title\n",
    "        self.author = author"
   ]
  },
  {
   "cell_type": "code",
   "execution_count": 844,
   "metadata": {},
   "outputs": [],
   "source": [
    "class Library:\n",
    "    def __init__(self):\n",
    "        self.list_of_books = []\n",
    "    def add_book(self,*args):\n",
    "        for i in args:\n",
    "            self.list_of_books.append(i)\n",
    "    def borrow_books(self,book):\n",
    "        if book in self.list_of_books:\n",
    "            self.list_of_books.remove(book)\n",
    "            print(f\"{book.title} has been borrowed.\")\n",
    "        else:\n",
    "            raise ValueError(\"Book not found in the library.\")\n",
    "    def display(self):\n",
    "        for book in self.list_of_books:\n",
    "            print(f\"Name: {book.title}\\nAuthor: {book.author}\\n\")"
   ]
  },
  {
   "cell_type": "code",
   "execution_count": 845,
   "metadata": {},
   "outputs": [],
   "source": [
    "book1 = Book(\"DSA for Dummies\",\"John Paul Mueller\")\n",
    "book2 = Book(\"Drunk Coding\",\"N.E Briated\")\n",
    "book3 = Book(\"Quantum Physics for Babies\",\"Chris Ferrie\")"
   ]
  },
  {
   "cell_type": "code",
   "execution_count": 846,
   "metadata": {},
   "outputs": [
    {
     "name": "stdout",
     "output_type": "stream",
     "text": [
      "Name: DSA for Dummies\n",
      "Author: John Paul Mueller\n",
      "\n",
      "Name: Drunk Coding\n",
      "Author: N.E Briated\n",
      "\n",
      "Name: Quantum Physics for Babies\n",
      "Author: Chris Ferrie\n",
      "\n"
     ]
    }
   ],
   "source": [
    "Lib = Library()\n",
    "Lib.add_book(book1,book2,book3)\n",
    "Lib.display()"
   ]
  },
  {
   "cell_type": "code",
   "execution_count": 847,
   "metadata": {},
   "outputs": [
    {
     "name": "stdout",
     "output_type": "stream",
     "text": [
      "DSA for Dummies has been borrowed.\n"
     ]
    }
   ],
   "source": [
    "Lib.borrow_books(book1)"
   ]
  },
  {
   "cell_type": "code",
   "execution_count": 848,
   "metadata": {},
   "outputs": [
    {
     "name": "stdout",
     "output_type": "stream",
     "text": [
      "Name: Drunk Coding\n",
      "Author: N.E Briated\n",
      "\n",
      "Name: Quantum Physics for Babies\n",
      "Author: Chris Ferrie\n",
      "\n"
     ]
    }
   ],
   "source": [
    "Lib.display()"
   ]
  },
  {
   "cell_type": "code",
   "execution_count": 849,
   "metadata": {},
   "outputs": [],
   "source": [
    "#Question 5\n",
    "class Product:\n",
    "    def __init__(self, name, quantity):\n",
    "        self.name =name \n",
    "        self.quantity = quantity"
   ]
  },
  {
   "cell_type": "code",
   "execution_count": 850,
   "metadata": {},
   "outputs": [],
   "source": [
    "class Inventory:\n",
    "    def __init__(self):\n",
    "        self.inventory = []\n",
    "    def add_products(self, *args):\n",
    "        for product in args:\n",
    "            self.inventory.append(product)\n",
    "    def take_product(self, product, quantity):\n",
    "        if((product in self.inventory) and (product.quantity>quantity)):\n",
    "            product.quantity-=quantity\n",
    "        else:\n",
    "            print(\"Not enough quantities\")\n",
    "    def display(self):\n",
    "        for product in self.inventory:\n",
    "            print(f\"Name: {product.name}\\nAuthor: {product.quantity}\\n\")\n",
    "            "
   ]
  },
  {
   "cell_type": "code",
   "execution_count": 851,
   "metadata": {},
   "outputs": [],
   "source": [
    "Item1 = Product(\"Cement\",10)\n",
    "Item2 = Product(\"Gravel\",10)\n",
    "Item3 = Product(\"Green Paint\",4)"
   ]
  },
  {
   "cell_type": "code",
   "execution_count": 852,
   "metadata": {},
   "outputs": [],
   "source": [
    "Inv = Inventory()\n",
    "Inv.add_products(Item1,Item2 ,Item3)"
   ]
  },
  {
   "cell_type": "code",
   "execution_count": 853,
   "metadata": {},
   "outputs": [
    {
     "name": "stdout",
     "output_type": "stream",
     "text": [
      "Name: Cement\n",
      "Author: 10\n",
      "\n",
      "Name: Gravel\n",
      "Author: 10\n",
      "\n",
      "Name: Green Paint\n",
      "Author: 4\n",
      "\n"
     ]
    }
   ],
   "source": [
    "Inv.display()"
   ]
  },
  {
   "cell_type": "code",
   "execution_count": 854,
   "metadata": {},
   "outputs": [],
   "source": [
    "Inv.take_product(Item1,2)"
   ]
  },
  {
   "cell_type": "code",
   "execution_count": 855,
   "metadata": {},
   "outputs": [
    {
     "name": "stdout",
     "output_type": "stream",
     "text": [
      "Name: Cement\n",
      "Author: 8\n",
      "\n",
      "Name: Gravel\n",
      "Author: 10\n",
      "\n",
      "Name: Green Paint\n",
      "Author: 4\n",
      "\n"
     ]
    }
   ],
   "source": [
    "Inv.display()"
   ]
  },
  {
   "cell_type": "code",
   "execution_count": 856,
   "metadata": {},
   "outputs": [],
   "source": [
    "#Question 6\n",
    "class Circle:\n",
    "    def __init__(self,radius):\n",
    "        self.pi = 3.1415\n",
    "        self.radius = radius\n",
    "    def Area(self):\n",
    "        print(self.radius*self.pi*self.radius)\n",
    "    def Perimeter(self):\n",
    "        print(self.radius*2*self.pi)\n",
    "    \n",
    "class Square:\n",
    "    def __init__(self,side):\n",
    "        self.side = side\n",
    "    def Area(self):\n",
    "        print(self.side*self.side)\n",
    "    def Perimeter(self):\n",
    "        print(4*self.side)\n",
    "    \n",
    "class Rectangle:\n",
    "    def __init__(self,length,width):\n",
    "        self.length = length\n",
    "        self.width= width\n",
    "    def Area(self):\n",
    "        print(self.width*self.length)\n",
    "    def Perimeter(self):\n",
    "        print((2*self.length)+(2*self.width))\n",
    "    \n",
    "class Triangle:\n",
    "    def __init__(self,base,height,side):\n",
    "        self.base = base\n",
    "        self.height = height \n",
    "        self.side = side\n",
    "    def Area(self):\n",
    "        print((0.5)*self.base*self.height)\n",
    "    def Perimeter(self):\n",
    "        print(self.base+self.height+self.side)"
   ]
  },
  {
   "cell_type": "code",
   "execution_count": 857,
   "metadata": {},
   "outputs": [],
   "source": [
    "my_triangle = Triangle(2,3,4)\n",
    "my_sqaure = Square(9)\n",
    "my_circle = Circle(7)\n",
    "my_rectangle =Rectangle(9,7)\n"
   ]
  },
  {
   "cell_type": "code",
   "execution_count": 858,
   "metadata": {},
   "outputs": [
    {
     "name": "stdout",
     "output_type": "stream",
     "text": [
      "3.0\n",
      "9\n"
     ]
    }
   ],
   "source": [
    "my_triangle.Area()\n",
    "my_triangle.Perimeter()"
   ]
  },
  {
   "cell_type": "code",
   "execution_count": 859,
   "metadata": {},
   "outputs": [
    {
     "name": "stdout",
     "output_type": "stream",
     "text": [
      "81\n",
      "36\n"
     ]
    }
   ],
   "source": [
    "my_sqaure.Area()\n",
    "my_sqaure.Perimeter()"
   ]
  },
  {
   "cell_type": "code",
   "execution_count": 860,
   "metadata": {},
   "outputs": [
    {
     "name": "stdout",
     "output_type": "stream",
     "text": [
      "153.9335\n",
      "43.981\n"
     ]
    }
   ],
   "source": [
    "my_circle.Area()\n",
    "my_circle.Perimeter()"
   ]
  },
  {
   "cell_type": "code",
   "execution_count": 861,
   "metadata": {},
   "outputs": [
    {
     "name": "stdout",
     "output_type": "stream",
     "text": [
      "63\n",
      "32\n"
     ]
    }
   ],
   "source": [
    "my_rectangle.Area()\n",
    "my_rectangle.Perimeter()"
   ]
  },
  {
   "cell_type": "code",
   "execution_count": 862,
   "metadata": {},
   "outputs": [],
   "source": [
    "#Question 7\n",
    "class Student:\n",
    "    def __init__(self,name,ID,phys_marks,chem_marks,bio_marks):\n",
    "        self.name = name\n",
    "        self.ID = ID\n",
    "        self.phys_marks = phys_marks\n",
    "        self.chem_marks = chem_marks\n",
    "        self.bio_marks = bio_marks\n",
    "        self.avg_marks =round((self.phys_marks+self.chem_marks+self.bio_marks)/3,2)"
   ]
  },
  {
   "cell_type": "code",
   "execution_count": 863,
   "metadata": {},
   "outputs": [],
   "source": [
    "class Management:\n",
    "    def __init__(self):\n",
    "        self.students = []\n",
    "    def add_students(self,*args):\n",
    "        for student in  args:\n",
    "            self.students.append(student)\n",
    "    def display(self):\n",
    "        for stud in self.students:\n",
    "            print(f\"\"\"\n",
    "                  Name: {stud.name}\n",
    "                  ID: {stud.ID} \n",
    "                  Physics Marks: {stud.phys_marks}\n",
    "                  Chemistry Marks: {stud.chem_marks}\n",
    "                  Biology Marks: {stud.bio_marks}\n",
    "                  Average: {stud.avg_marks}\n",
    "                  \"\"\")\n",
    "\n",
    "    "
   ]
  },
  {
   "cell_type": "code",
   "execution_count": 864,
   "metadata": {},
   "outputs": [],
   "source": [
    "stud1 = Student(\"Jason Bourne\",\"IX12\",80,76,70)\n",
    "stud2 = Student(\"Leon Kennedy\",\"RE21\",90,45,80)\n",
    "stud3 = Student(\"Clara Garcia\",\"IX12\",65,50,95)"
   ]
  },
  {
   "cell_type": "code",
   "execution_count": 865,
   "metadata": {},
   "outputs": [],
   "source": [
    "manag = Management()\n",
    "manag.add_students(stud1,stud2,stud3)"
   ]
  },
  {
   "cell_type": "code",
   "execution_count": 866,
   "metadata": {},
   "outputs": [
    {
     "name": "stdout",
     "output_type": "stream",
     "text": [
      "\n",
      "                  Name: Jason Bourne\n",
      "                  ID: IX12 \n",
      "                  Physics Marks: 80\n",
      "                  Chemistry Marks: 76\n",
      "                  Biology Marks: 70\n",
      "                  Average: 75.33\n",
      "                  \n",
      "\n",
      "                  Name: Leon Kennedy\n",
      "                  ID: RE21 \n",
      "                  Physics Marks: 90\n",
      "                  Chemistry Marks: 45\n",
      "                  Biology Marks: 80\n",
      "                  Average: 71.67\n",
      "                  \n",
      "\n",
      "                  Name: Clara Garcia\n",
      "                  ID: IX12 \n",
      "                  Physics Marks: 65\n",
      "                  Chemistry Marks: 50\n",
      "                  Biology Marks: 95\n",
      "                  Average: 70.0\n",
      "                  \n"
     ]
    }
   ],
   "source": [
    "manag.display()"
   ]
  },
  {
   "cell_type": "code",
   "execution_count": 867,
   "metadata": {},
   "outputs": [],
   "source": [
    "#Question 8\n",
    "class Email:\n",
    "    def __init__(self, sender, recipient, subject, message):\n",
    "        self.sender = sender\n",
    "        self.recipient = recipient\n",
    "        self.subject = subject\n",
    "        self.message = message\n",
    "        self.sent = False\n",
    "    def send_email(self):\n",
    "        print(f\"Email sent from {self.sender} to {self.recipient}\")\n",
    "        self.sent = True\n",
    "    def display_details(self):\n",
    "        print(\"Email Details:\")\n",
    "        print(f\"Sender: {self.sender}\")\n",
    "        print(f\"Recipient: {self.recipient}\")\n",
    "        print(f\"Subject: {self.subject}\")\n",
    "        print(\"Message:\")\n",
    "        print(self.message)\n"
   ]
  },
  {
   "cell_type": "code",
   "execution_count": 868,
   "metadata": {},
   "outputs": [
    {
     "name": "stdout",
     "output_type": "stream",
     "text": [
      "Email Details:\n",
      "Sender: arush0104@gmail.com\n",
      "Recipient: pwskills@gmail.com\n",
      "Subject: A review\n",
      "Message:\n",
      "PWSkills has very nice COURSES\n"
     ]
    }
   ],
   "source": [
    "email = Email(\"arush0104@gmail.com\", \"pwskills@gmail.com\", \"A review\", \"PWSkills has very nice COURSES\")\n",
    "email.display_details()\n"
   ]
  },
  {
   "cell_type": "code",
   "execution_count": 869,
   "metadata": {},
   "outputs": [
    {
     "name": "stdout",
     "output_type": "stream",
     "text": [
      "Email sent from arush0104@gmail.com to pwskills@gmail.com\n"
     ]
    }
   ],
   "source": [
    "email.send_email()"
   ]
  },
  {
   "cell_type": "code",
   "execution_count": 870,
   "metadata": {},
   "outputs": [],
   "source": [
    "#Question 9\n",
    "class Profile:\n",
    "    def __init__(self,username):\n",
    "        self.username = username"
   ]
  },
  {
   "cell_type": "code",
   "execution_count": 871,
   "metadata": {},
   "outputs": [],
   "source": [
    "class SocialApp:\n",
    "    def __init__(self):\n",
    "        self.posts = []\n",
    "    def add_post(self,*args):\n",
    "        for post in args:\n",
    "            self.posts.append(post)\n",
    "    def display(self):\n",
    "        for i in self.posts:\n",
    "            print(f\"{i}\\n\")\n",
    "    def search(self,word):\n",
    "        found_word = [post for post in self.posts if word in post]\n",
    "        if(found_word):\n",
    "            print(f\"Posts containing '{word}':\")\n",
    "            for post in found_word:\n",
    "                print(post)\n",
    "        else:\n",
    "            print(f\"No posts found containing '{word}'.\")"
   ]
  },
  {
   "cell_type": "code",
   "execution_count": 872,
   "metadata": {},
   "outputs": [],
   "source": [
    "my_profile = Profile(\"arush0104\")"
   ]
  },
  {
   "cell_type": "code",
   "execution_count": 873,
   "metadata": {},
   "outputs": [],
   "source": [
    "my_app = SocialApp()\n",
    "my_app.add_post(\"I like python and C++\")\n",
    "my_app.add_post(\"My favourite data structure is Linked List\")\n",
    "my_app.add_post(\"I like Java too\")"
   ]
  },
  {
   "cell_type": "code",
   "execution_count": 874,
   "metadata": {},
   "outputs": [
    {
     "name": "stdout",
     "output_type": "stream",
     "text": [
      "I like python and C++\n",
      "\n",
      "My favourite data structure is Linked List\n",
      "\n",
      "I like Java too\n",
      "\n"
     ]
    }
   ],
   "source": [
    "my_app.display()"
   ]
  },
  {
   "cell_type": "code",
   "execution_count": 875,
   "metadata": {},
   "outputs": [
    {
     "name": "stdout",
     "output_type": "stream",
     "text": [
      "Posts containing 'Java':\n",
      "I like Java too\n"
     ]
    }
   ],
   "source": [
    "my_app.search(\"Java\")"
   ]
  },
  {
   "cell_type": "code",
   "execution_count": 876,
   "metadata": {},
   "outputs": [],
   "source": [
    "class Task:\n",
    "    def __init__(self, task, due_date):\n",
    "        self.task = task\n",
    "        self.date = due_date\n",
    "        self.done = False\n"
   ]
  },
  {
   "cell_type": "code",
   "execution_count": 877,
   "metadata": {},
   "outputs": [],
   "source": [
    "from datetime import date\n",
    "class List:\n",
    "    def __init__(self):\n",
    "        self.list_tasks = []\n",
    "\n",
    "    def add_task(self, *args):\n",
    "        for i in args:\n",
    "            self.list_tasks.append(i)\n",
    "\n",
    "    def is_complete(self, task):\n",
    "        task.done = True\n",
    "\n",
    "    def pending(self):\n",
    "        pending_tasks = [task for task in self.list_tasks if not task.done]\n",
    "        if pending_tasks:\n",
    "            print(\"The following tasks are yet to be done:\")\n",
    "            for task in pending_tasks:\n",
    "                print(f\"\"\"\n",
    "                        {task.task},\n",
    "                      \"\"\")\n",
    "        else:\n",
    "            print(\"All tasks are complete.\")\n",
    "\n",
    "    def date_due(self):\n",
    "        today_date = date.today().strftime(\"%d/%m/%Y\")\n",
    "        for task in self.list_tasks:\n",
    "            if(task.date > today_date):\n",
    "                print(f\"\"\"\n",
    "                        The following tasks are due:\n",
    "                        {task.task}\n",
    "                      \"\"\")\n"
   ]
  },
  {
   "cell_type": "code",
   "execution_count": 878,
   "metadata": {},
   "outputs": [],
   "source": [
    "task1 = Task(\"Water the plants\",\"21/04/2024\")\n",
    "task2 = Task(\"Buy vegetables\",\"20/04/2024\")\n",
    "task3 = Task(\"Deliver letter to post office\",\"19/04/2024\")"
   ]
  },
  {
   "cell_type": "code",
   "execution_count": 879,
   "metadata": {},
   "outputs": [],
   "source": [
    "my_list = List()\n",
    "my_list.add_task(task1,task2,task3)"
   ]
  },
  {
   "cell_type": "code",
   "execution_count": 880,
   "metadata": {},
   "outputs": [],
   "source": [
    "my_list.is_complete(task1)"
   ]
  },
  {
   "cell_type": "code",
   "execution_count": 881,
   "metadata": {},
   "outputs": [
    {
     "name": "stdout",
     "output_type": "stream",
     "text": [
      "The following tasks are yet to be done:\n",
      "\n",
      "                        Buy vegetables,\n",
      "                      \n",
      "\n",
      "                        Deliver letter to post office,\n",
      "                      \n"
     ]
    }
   ],
   "source": [
    "my_list.pending()"
   ]
  },
  {
   "cell_type": "code",
   "execution_count": null,
   "metadata": {},
   "outputs": [],
   "source": []
  },
  {
   "cell_type": "code",
   "execution_count": null,
   "metadata": {},
   "outputs": [],
   "source": []
  }
 ],
 "metadata": {
  "kernelspec": {
   "display_name": "Python 3",
   "language": "python",
   "name": "python3"
  },
  "language_info": {
   "codemirror_mode": {
    "name": "ipython",
    "version": 3
   },
   "file_extension": ".py",
   "mimetype": "text/x-python",
   "name": "python",
   "nbconvert_exporter": "python",
   "pygments_lexer": "ipython3",
   "version": "3.12.2"
  }
 },
 "nbformat": 4,
 "nbformat_minor": 2
}
